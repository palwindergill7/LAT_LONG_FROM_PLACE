{
 "cells": [
  {
   "cell_type": "markdown",
   "metadata": {},
   "source": [
    "# To get Latitude and Longitude from Place Name"
   ]
  },
  {
   "cell_type": "code",
   "execution_count": 10,
   "metadata": {},
   "outputs": [],
   "source": [
    "import requests\n",
    "import json\n",
    "import pandas as pd\n",
    "\n",
    "#d=requests.get('https://nominatim.openstreetmap.org/search?q=kassoana&format=json&polygon=1&addressdetails=1')"
   ]
  },
  {
   "cell_type": "markdown",
   "metadata": {},
   "source": [
    "#### Enter Place Name Here:\n",
    "Use ',' to enter multiple Places"
   ]
  },
  {
   "cell_type": "code",
   "execution_count": 11,
   "metadata": {},
   "outputs": [
    {
     "name": "stdout",
     "output_type": "stream",
     "text": [
      "Enter the Place Name kassoana,zira,moga\n"
     ]
    }
   ],
   "source": [
    "villlist=input('Enter the Place Name ')\n",
    "villlist = villlist.split(',')"
   ]
  },
  {
   "cell_type": "markdown",
   "metadata": {},
   "source": [
    "#### To Get Places names from PUNJAB.xlsx File"
   ]
  },
  {
   "cell_type": "code",
   "execution_count": 2,
   "metadata": {},
   "outputs": [],
   "source": [
    "#Punvill= pd.read_excel('P://PUNJAB.xlsx',sheet_name=\"Village\")\n",
    "#villlist=list(Punvill['Name'])"
   ]
  },
  {
   "cell_type": "code",
   "execution_count": 14,
   "metadata": {},
   "outputs": [
    {
     "name": "stdout",
     "output_type": "stream",
     "text": [
      "1   kassoana  is in  Firozpur  and has Cordinates 30.9524099 74.8845745\n",
      "2   zira  is in  Firozpur  and has Cordinates 30.971299 74.9881797\n",
      "3   moga  is in  Moga  and has Cordinates 30.7839866 75.16057422541162\n"
     ]
    }
   ],
   "source": [
    "lat=[]\n",
    "long=[]\n",
    "place=[]\n",
    "district=[]\n",
    "\n",
    "#Places to test the code\n",
    "#villlist= ['Barnala','zira','Hoshiarpur','Kapurthala','Ludhiana','Mansa','Moga','Tarn Taran']\n",
    "\n",
    "for vill in villlist:\n",
    "    vill1=vill.replace(\" \",\"+\")\n",
    "    url=\"https://nominatim.openstreetmap.org/search?q=\"+vill1+\"&format=json&polygon=1&addressdetails=1\"\n",
    "    d=requests.get(url)\n",
    "    data=d.json()\n",
    "    place.append(vill)\n",
    "    \n",
    "    if(len(data)==0):\n",
    "        \n",
    "        lat1='NA'\n",
    "        long1='NA'\n",
    "        dist1='NA'\n",
    "        lat.append(lat1)\n",
    "        long.append(long1)\n",
    "        district.append(dist1)\n",
    "        \n",
    "    else:\n",
    "        for sr in data:\n",
    "            try:\n",
    "                x1=sr['address']['state_district']\n",
    "                x2=sr['address']['state']\n",
    "                x3=sr['address']['country_code']\n",
    "                #print(x3,x2,x1)\n",
    "                x=1\n",
    "            except:\n",
    "                x=0\n",
    "            \n",
    "            if(x==1):\n",
    "                lat1=0\n",
    "                long1=0\n",
    "                dist1='NA'\n",
    "                if((sr['address']['country_code']=='in')&(sr['address']['state']=='Punjab')):\n",
    "                    \n",
    "                    lat1=(sr['lat'])\n",
    "                    long1=(sr['lon'])\n",
    "                    dist1=(sr['address']['state_district'])\n",
    "                    #print(villlist.index(vill),\"  \",vill)\n",
    "                    break    \n",
    "            else:\n",
    "                lat1=0\n",
    "                long1=0\n",
    "                dist1='NA'\n",
    "                \n",
    "        lat.append(lat1)\n",
    "        long.append(long1)\n",
    "        district.append(dist1)\n",
    "        \n",
    "    print(villlist.index(vill)+1,\" \",vill,\" is in \",district[-1],\" and has Cordinates\",lat[-1], long[-1])"
   ]
  },
  {
   "cell_type": "markdown",
   "metadata": {},
   "source": [
    "#### To Create Dataframe and Import in Excel Format"
   ]
  },
  {
   "cell_type": "code",
   "execution_count": 7,
   "metadata": {},
   "outputs": [],
   "source": [
    "LLData= pd.DataFrame()\n",
    "LLData['Place']=place\n",
    "LLData['Latitude']=lat\n",
    "LLData['Longitude']=long\n",
    "LLData['District']=dist\n",
    "LLData.head()\n",
    "#LLData.to_excel('Place_LL.xlsx',index=False)\n",
    "LLData.to_excel('Place_LL.xlsx')"
   ]
  }
 ],
 "metadata": {
  "kernelspec": {
   "display_name": "Python 3",
   "language": "python",
   "name": "python3"
  },
  "language_info": {
   "codemirror_mode": {
    "name": "ipython",
    "version": 3
   },
   "file_extension": ".py",
   "mimetype": "text/x-python",
   "name": "python",
   "nbconvert_exporter": "python",
   "pygments_lexer": "ipython3",
   "version": "3.7.1"
  }
 },
 "nbformat": 4,
 "nbformat_minor": 5
}
